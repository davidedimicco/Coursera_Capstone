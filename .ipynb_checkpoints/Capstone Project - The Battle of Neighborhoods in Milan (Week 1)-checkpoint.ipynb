{
 "cells": [
  {
   "cell_type": "markdown",
   "metadata": {},
   "source": [
    "# Introduction/Business Understanding"
   ]
  },
  {
   "cell_type": "markdown",
   "metadata": {},
   "source": [
    "### Description of the problem"
   ]
  },
  {
   "cell_type": "markdown",
   "metadata": {},
   "source": [
    "The business problem we are currently posing is the following: near the end of the quarantine due to Covid19, it is clear that the normal daily routine of many citizens has been disrupted, together with their eating habits. Before the reopening starts, it is important to understand the current situation regarding these types of venues, preparing to see the closure of some restaurants and the opening of new ones. We want to study data regarding any type of restaurants in Milan, in such a way to provide support to visitors (by visualizing Milan districts that fit their needs in term of culinary/food venues) and also to investors who want to take advantage of this moment to start a new activity (by providing them with a complete picture of the current situation and with a set of suggestions based on our exploration)."
   ]
  },
  {
   "cell_type": "markdown",
   "metadata": {},
   "source": [
    "### Discussion of the background"
   ]
  },
  {
   "cell_type": "markdown",
   "metadata": {},
   "source": [
    "With nearly 4 million inhabitants and almost 10 million tourists per year, Milan (together with its metropolitan area) is the economic center of Italy: it is considered a leading alpha global city, with strengths in the fields of the art, commerce, design, education, entertainment, fashion, finance, healthcare, media, services, research and tourism. Its business district hosts Italy's stock exchange, and the headquarters of national and international banks and companies. In terms of GDP, it has the second-largest economy among EU cities after Paris, and is the wealthiest among EU non-capital cities. Milan is considered part of the Blue Banana and one of the \"Four Motors for Europe\".\n",
    "\n",
    "Milan is well known for its world-class restaurants and cafés, characterised by innovative cuisine and design: it has 157 Michelin-selected places, including three 2-Michelin-starred restaurants and it has been chosen to host \"Expo Milano 2015 - Feeding the Planet, Energy for Life!\".\n",
    "\n",
    "It is quite difficult for travelers to choose from among many options: there is plenty of information, but it’s all so fragmented that you have to assemble it yourself, especially if you’re interested in non-touristy recommendations. Similarly, it is not clear what is the best location to open a new restaurant based on the existing ones.\n",
    "\n",
    "So, how could we leverage Foursquare location data and machine learning to help us make decision and find appropriate neighborhoods for restaurant-goers and for investors? This is the problem I would like to address in this capstone project taking Milan as an example. In this project, I am going to use Foursquare location data and clustering methods to group the districts to different clusters by their restaurant venues information."
   ]
  },
  {
   "cell_type": "markdown",
   "metadata": {},
   "source": [
    "# Data Requirements"
   ]
  },
  {
   "cell_type": "markdown",
   "metadata": {},
   "source": [
    "For this project we need following data:"
   ]
  },
  {
   "cell_type": "markdown",
   "metadata": {},
   "source": [
    "#### Milan data that contains districts along with their latitude and longitude:"
   ]
  },
  {
   "cell_type": "markdown",
   "metadata": {},
   "source": [
    "Datasource : https://en.wikipedia.org/wiki/Municipalities_of_Milan\n",
    "\n",
    "Description: We will scrap Milan districts table from Wikipedia and get the coordinates of the 24 major districts using geocoder class of Geopy client."
   ]
  },
  {
   "cell_type": "markdown",
   "metadata": {},
   "source": [
    "#### Restaurants in each neighborhood of Tokyo:"
   ]
  },
  {
   "cell_type": "markdown",
   "metadata": {},
   "source": [
    "Data source: Foursquare APIs\n",
    "\n",
    "Description : By using this API we will get all the venues in each district. We can filter these venues to get only restaurants and then group them following different criteria like position or type of cuisine."
   ]
  }
 ],
 "metadata": {
  "kernelspec": {
   "display_name": "Python 3",
   "language": "python",
   "name": "python3"
  },
  "language_info": {
   "codemirror_mode": {
    "name": "ipython",
    "version": 3
   },
   "file_extension": ".py",
   "mimetype": "text/x-python",
   "name": "python",
   "nbconvert_exporter": "python",
   "pygments_lexer": "ipython3",
   "version": "3.7.4"
  }
 },
 "nbformat": 4,
 "nbformat_minor": 2
}
